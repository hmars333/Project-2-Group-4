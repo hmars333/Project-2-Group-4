{
 "cells": [
  {
   "cell_type": "code",
   "execution_count": 2,
   "metadata": {},
   "outputs": [
    {
     "ename": "ModuleNotFoundError",
     "evalue": "No module named 'pandas_datareader'",
     "output_type": "error",
     "traceback": [
      "\u001b[1;31m---------------------------------------------------------------------------\u001b[0m",
      "\u001b[1;31mModuleNotFoundError\u001b[0m                       Traceback (most recent call last)",
      "\u001b[1;32m<ipython-input-2-ada2774df4c4>\u001b[0m in \u001b[0;36m<module>\u001b[1;34m\u001b[0m\n\u001b[1;32m----> 1\u001b[1;33m \u001b[1;32mimport\u001b[0m \u001b[0mpandas_datareader\u001b[0m\u001b[1;33m.\u001b[0m\u001b[0mdata\u001b[0m \u001b[1;32mas\u001b[0m \u001b[0mweb\u001b[0m\u001b[1;33m\u001b[0m\u001b[1;33m\u001b[0m\u001b[0m\n\u001b[0m\u001b[0;32m      2\u001b[0m \u001b[1;33m\u001b[0m\u001b[0m\n\u001b[0;32m      3\u001b[0m \u001b[1;32mimport\u001b[0m \u001b[0mpandas\u001b[0m \u001b[1;32mas\u001b[0m \u001b[0mpd\u001b[0m\u001b[1;33m\u001b[0m\u001b[1;33m\u001b[0m\u001b[0m\n\u001b[0;32m      4\u001b[0m \u001b[1;33m\u001b[0m\u001b[0m\n\u001b[0;32m      5\u001b[0m \u001b[1;32mimport\u001b[0m \u001b[0mnumpy\u001b[0m \u001b[1;32mas\u001b[0m \u001b[0mnp\u001b[0m\u001b[1;33m\u001b[0m\u001b[1;33m\u001b[0m\u001b[0m\n",
      "\u001b[1;31mModuleNotFoundError\u001b[0m: No module named 'pandas_datareader'"
     ]
    }
   ],
   "source": [
    "import pandas_datareader.data as web\n",
    " \n",
    "import pandas as pd\n",
    " \n",
    "import numpy as np\n",
    " \n",
    "import datetime as dt\n",
    " \n",
    "import matplotlib.pyplot as plt\n",
    "%matplotlib inline\n",
    "from pandas import Series, DataFrame\n",
    "\n",
    "import locale\n",
    "locale.setlocale(locale.LC_ALL,'')"
   ]
  },
  {
   "cell_type": "code",
   "execution_count": null,
   "metadata": {},
   "outputs": [],
   "source": [
    "stocks = ['SPY', 'VBMFX']\n",
    "data = web.get_data_yahoo(stocks, start=dt.datetime(1994, 1, 1), end=dt.datetime(2019, 12, 1))\n",
    "\n",
    "data = data.drop([\"High\", \"Low\", \"Open\",\"Volume\", \"Adj Close\"], axis=1)\n",
    "data = data.resample('1M').mean()\n",
    "\n",
    "\n",
    "data.tail(20)"
   ]
  },
  {
   "cell_type": "code",
   "execution_count": null,
   "metadata": {},
   "outputs": [],
   "source": [
    "data_1M_Return = data.pct_change(1)\n",
    "data_1M_Return= data_1M_Return.dropna()\n",
    "data_1M_Return"
   ]
  },
  {
   "cell_type": "code",
   "execution_count": null,
   "metadata": {},
   "outputs": [],
   "source": [
    "data_1M_Return.describe()"
   ]
  },
  {
   "cell_type": "code",
   "execution_count": null,
   "metadata": {},
   "outputs": [],
   "source": [
    "data_12M_Return = data.pct_change(12)\n",
    "data_12M_Return= data_12M_Return.dropna()\n",
    "data_12M_Return"
   ]
  },
  {
   "cell_type": "code",
   "execution_count": null,
   "metadata": {},
   "outputs": [],
   "source": [
    "data_12M_Return.plot(kind='hist',bins=[0,1,2,3,4,5],rwidth=0.8)\n",
    "plt.show()"
   ]
  },
  {
   "cell_type": "code",
   "execution_count": null,
   "metadata": {},
   "outputs": [],
   "source": [
    "data_12M_Return.describe()"
   ]
  },
  {
   "cell_type": "code",
   "execution_count": null,
   "metadata": {},
   "outputs": [],
   "source": [
    "pv = 10000\n",
    "time_horizon = 30\n",
    "i = 0.09\n",
    "additions = 10000\n",
    "\n",
    "for year in range(time_horizon):\n",
    "    ending = pv * (1+i) + additions\n",
    "    print(locale.currency(ending, grouping=True))\n",
    "    pv = ending"
   ]
  },
  {
   "cell_type": "code",
   "execution_count": null,
   "metadata": {},
   "outputs": [],
   "source": [
    "pv = 10000\n",
    "expected_return = .09\n",
    "volatility = .16\n",
    "time_horizon = 30\n",
    "annual_addition = 10000\n",
    "\n",
    "print(\"\\tReturn\", \"\\t\\tEnding Value\".rjust(18))\n",
    "for year in range(time_horizon):\n",
    "    market_return = np.random.normal(expected_return, volatility)\n",
    "    fv = pv * (1 + market_return) + annual_addition\n",
    "    print(\"\\t{}\".ljust(10).format(round(market_return,4)), \"\\t{}\".rjust(10).format(locale.currency(fv, grouping=True)))\n",
    "    pv = fv\n"
   ]
  },
  {
   "cell_type": "code",
   "execution_count": null,
   "metadata": {},
   "outputs": [],
   "source": [
    "sim = DataFrame()\n",
    "iterations = 5000\n",
    "\n",
    "\n",
    "for x in range(iterations):\n",
    "    expected_return = .09\n",
    "    volatility = .16\n",
    "    time_horizon = 30\n",
    "    pv = 1\n",
    "    annual_investment = 1\n",
    "    stream = []\n",
    "    for i in range(time_horizon):\n",
    "        end = round(pv * (1 + np.random.normal(expected_return,volatility)) + annual_investment,2)\n",
    "        \n",
    "        stream.append(end)\n",
    "\n",
    "        pv = end\n",
    "\n",
    "    \n",
    "    sim[x] = stream"
   ]
  },
  {
   "cell_type": "code",
   "execution_count": null,
   "metadata": {},
   "outputs": [],
   "source": [
    "first_twenty = list(range(20))\n",
    "sim[first_twenty]"
   ]
  },
  {
   "cell_type": "code",
   "execution_count": null,
   "metadata": {},
   "outputs": [],
   "source": [
    "plt.plot(sim[first_twenty])\n"
   ]
  },
  {
   "cell_type": "code",
   "execution_count": null,
   "metadata": {},
   "outputs": [],
   "source": [
    "ending_values = sim.loc[29]\n",
    "ending_values.describe()"
   ]
  },
  {
   "cell_type": "code",
   "execution_count": null,
   "metadata": {},
   "outputs": [],
   "source": [
    "plt.hist(ending_values, bins=50)"
   ]
  },
  {
   "cell_type": "code",
   "execution_count": null,
   "metadata": {},
   "outputs": [],
   "source": [
    "p_tiles = np.percentile(ending_values,[5,10,15,20,25,50, 75,80,85,90, 95])\n",
    "for p in range(len(p_tiles)):\n",
    "    l = [5,10,15,20,25,50, 75,80, 85,90,95]\n",
    "    print( \"{}%-ile: \".format(l[p]).rjust(15),\"{}\".format(locale.currency(p_tiles[p], grouping=True)))"
   ]
  },
  {
   "cell_type": "code",
   "execution_count": null,
   "metadata": {},
   "outputs": [],
   "source": [
    "len(ending_values[ending_values>600000]) / len(ending_values)\n"
   ]
  },
  {
   "cell_type": "code",
   "execution_count": null,
   "metadata": {},
   "outputs": [],
   "source": [
    "len(ending_values[(ending_values> 600000) & (ending_values< 1100000)]) /len(ending_values)\n"
   ]
  }
 ],
 "metadata": {
  "kernelspec": {
   "display_name": "Python 3",
   "language": "python",
   "name": "python3"
  },
  "language_info": {
   "codemirror_mode": {
    "name": "ipython",
    "version": 3
   },
   "file_extension": ".py",
   "mimetype": "text/x-python",
   "name": "python",
   "nbconvert_exporter": "python",
   "pygments_lexer": "ipython3",
   "version": "3.7.4"
  }
 },
 "nbformat": 4,
 "nbformat_minor": 2
}
